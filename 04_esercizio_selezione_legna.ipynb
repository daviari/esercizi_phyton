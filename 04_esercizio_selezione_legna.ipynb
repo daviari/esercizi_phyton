{
  "nbformat": 4,
  "nbformat_minor": 0,
  "metadata": {
    "colab": {
      "provenance": []
    },
    "kernelspec": {
      "name": "python3",
      "display_name": "Python 3"
    },
    "language_info": {
      "name": "python"
    }
  },
  "cells": [
    {
      "cell_type": "markdown",
      "source": [
        "\n",
        "---\n",
        "\n",
        "**Esercizio: Calcolo della spesa per l'acquisto di legna da ardere**\n",
        "\n",
        "Un fornitore di legna da ardere offre uno sconto del 15% per ordini che superano i 100 kg. La legna è venduta in fascine, sacchi o bancali con capacità rispettivamente di 5 kg, 20 kg e 50 kg ciascuno. Le spese di trasporto sono fisse e ammontano a 3 euro. La legna ha un costo per kg di 0.8 euro. Si scriva un programma che permetta di calcolare il prezzo totale su scontrino, arrotondato ai decimi di euro.\n",
        "\n",
        "Il programma dovrà richiedere all'utente il numero di fascine, sacchi e bancali acquistati, e dovrà calcolare:\n",
        "\n",
        "1. Il peso totale dell'ordine in kg.\n",
        "2. Il costo totale della legna.\n",
        "3. L'applicazione dello sconto se il peso totale supera i 100 kg.\n",
        "4. Le spese di trasporto.\n",
        "5. Il totale finale arrotondato ai decimi di euro.\n",
        "\n",
        "**Esempio di input e output:**\n",
        "\n",
        "- Input:\n",
        "  - Fascine acquistate: 4\n",
        "  - Sacchi acquistati: 2\n",
        "  - Bancali acquistati: 1\n",
        "\n",
        "- Output:\n",
        "  - Peso totale: 120 kg\n",
        "  - Prezzo della legna senza sconto: 96 euro\n",
        "  - Sconto applicato: 14.4 euro\n",
        "  - Spese di trasporto: 3 euro\n",
        "  - Prezzo finale su scontrino: 84.6 euro\n",
        "\n"
      ],
      "metadata": {
        "id": "a6jicaB7TAEG"
      }
    }
  ]
}